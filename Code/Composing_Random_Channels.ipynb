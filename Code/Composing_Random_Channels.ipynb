{
 "cells": [
  {
   "cell_type": "markdown",
   "id": "46a74c2e",
   "metadata": {},
   "source": [
    "From a pool of random quantum channels, we want to see how many of them are EEB and EPPT, and how fast they do so if that's the case."
   ]
  },
  {
   "cell_type": "markdown",
   "id": "524f0488",
   "metadata": {},
   "source": [
    "QUBIT CASE"
   ]
  },
  {
   "cell_type": "markdown",
   "id": "2fb322e9",
   "metadata": {},
   "source": [
    "In this case, The PPT criteria tells us that a channel is EB if and only if it's PPT, meaning that the property PPT is a sufficient and necessary condition for a qubit channel to be entanglement breaking."
   ]
  },
  {
   "cell_type": "code",
   "execution_count": 1,
   "id": "7e44b088",
   "metadata": {},
   "outputs": [
    {
     "name": "stdout",
     "output_type": "stream",
     "text": [
      "EEB channels found after 1 application: 2376/10000\n"
     ]
    }
   ],
   "source": [
    "from qiskit.quantum_info import Choi, random_quantum_channel, random_unitary\n",
    "from utils import is_ppt, is_eppt, is_es_qubit\n",
    "\n",
    "\n",
    "count = 0\n",
    "total = 10000\n",
    "iterations = 0\n",
    "for _ in range(total): \n",
    "    chan = random_quantum_channel(2)\n",
    "    choi = Choi(chan)\n",
    "    if is_eppt(choi,iterations):\n",
    "        count += 1\n",
    "\n",
    "print(f\"EEB channels found after {iterations + 1} application: {count}/{total}\")"
   ]
  },
  {
   "cell_type": "code",
   "execution_count": 44,
   "id": "55c650d0",
   "metadata": {},
   "outputs": [
    {
     "name": "stdout",
     "output_type": "stream",
     "text": [
      "EEB channels found after 1 application: 2417/10000\n",
      "EEB channels found after 2 application: 9319/10000\n",
      "EEB channels found after 3 application: 9981/10000\n",
      "EEB channels found after 4 application: 10000/10000\n"
     ]
    }
   ],
   "source": [
    "total = 10000\n",
    "iterations=0\n",
    "count = 0\n",
    "\n",
    "while count < total:\n",
    "    count = 0\n",
    "    for _ in range(total): \n",
    "        chan = random_quantum_channel(2)\n",
    "        choi = Choi(chan)\n",
    "        if is_eppt(choi,iterations):\n",
    "            count += 1\n",
    "    print(f\"EEB channels found after {iterations + 1} application: {count}/{total}\")\n",
    "    iterations += 1"
   ]
  },
  {
   "cell_type": "markdown",
   "id": "109a9b58",
   "metadata": {},
   "source": [
    "From this we observe that intuitively we will get en EEB channel from a random sample with probability 1.\n",
    "However, we want to check if this is working properly. Lets define unitary evolutions, which for sure should not be EEB"
   ]
  },
  {
   "cell_type": "code",
   "execution_count": 2,
   "id": "8ffee555",
   "metadata": {},
   "outputs": [
    {
     "data": {
      "text/plain": [
       "Choi([[0.+0.j, 0.+0.j, 0.+0.j, 0.+0.j],\n",
       "      [0.+0.j, 1.+0.j, 1.+0.j, 0.+0.j],\n",
       "      [0.+0.j, 1.+0.j, 1.+0.j, 0.+0.j],\n",
       "      [0.+0.j, 0.+0.j, 0.+0.j, 0.+0.j]],\n",
       "     input_dims=(2,), output_dims=(2,))"
      ]
     },
     "execution_count": 2,
     "metadata": {},
     "output_type": "execute_result"
    }
   ],
   "source": [
    "from qiskit.quantum_info import Choi, Operator, DensityMatrix\n",
    "from qiskit import QuantumCircuit\n",
    "\n",
    "# Define Pauli-X unitary matrix\n",
    "X = [[0, 1], [1, 0]]\n",
    "\n",
    "# Convert to a quantum channel (Kraus representation)\n",
    "pauli_x_operator = Choi(Operator(X)).data  # Get Choi matrix\n",
    "pauli_x_channel = Choi(pauli_x_operator)  # Wrap as Choi object for your utils functions\n",
    "\n",
    "pauli_x_channel"
   ]
  },
  {
   "cell_type": "code",
   "execution_count": 3,
   "id": "38e9aac9",
   "metadata": {},
   "outputs": [
    {
     "name": "stdout",
     "output_type": "stream",
     "text": [
      "DensityMatrix([[ 0.572713  +0.j        ,  0.19818324+0.2972202j ,\n",
      "                 0.05407857+0.04995963j, -0.22890505+0.11287743j],\n",
      "               [ 0.19818324-0.2972202j ,  0.427287  +0.j        ,\n",
      "                 0.1484099 -0.03210515j, -0.05407857-0.04995963j],\n",
      "               [ 0.05407857-0.04995963j,  0.1484099 +0.03210515j,\n",
      "                 0.23670313+0.j        ,  0.20863378-0.10602887j],\n",
      "               [-0.22890505-0.11287743j, -0.05407857+0.04995963j,\n",
      "                 0.20863378+0.10602887j,  0.76329687+0.j        ]],\n",
      "              dims=(2, 2))\n"
     ]
    }
   ],
   "source": [
    "DensityMatrix(choi.data)"
   ]
  },
  {
   "cell_type": "code",
   "execution_count": 4,
   "id": "f2a5e8e4",
   "metadata": {},
   "outputs": [
    {
     "data": {
      "text/plain": [
       "False"
      ]
     },
     "execution_count": 4,
     "metadata": {},
     "output_type": "execute_result"
    }
   ],
   "source": [
    "is_eppt(pauli_x_channel, 10000)"
   ]
  },
  {
   "cell_type": "markdown",
   "id": "54b74af2",
   "metadata": {},
   "source": [
    "We can actually see that pauli X evolution is not EEB, or at least not after 10000 iterations"
   ]
  },
  {
   "cell_type": "markdown",
   "id": "55180f56",
   "metadata": {},
   "source": [
    "In fact, we can use another Qiskit feature to create random unitaries and transform them into the Choi matrix of its corresponding unitary evolution, to check that none of them are EEB"
   ]
  },
  {
   "cell_type": "code",
   "execution_count": 48,
   "id": "098b299e",
   "metadata": {},
   "outputs": [
    {
     "data": {
      "text/plain": [
       "Choi([[ 0.85670146-1.38964104e-17j,  0.32106963-1.40279568e-01j,\n",
       "       -0.05749908+3.45626855e-01j, -0.20951488-8.30687010e-01j],\n",
       "      [ 0.32106963+1.40279568e-01j,  0.14329854+6.00483200e-18j,\n",
       "       -0.07814344+1.20116920e-01j,  0.05749908-3.45626855e-01j],\n",
       "      [-0.05749908-3.45626855e-01j, -0.07814344-1.20116920e-01j,\n",
       "        0.14329854-1.65649844e-18j, -0.32106963+1.40279568e-01j],\n",
       "      [-0.20951488+8.30687010e-01j,  0.05749908+3.45626855e-01j,\n",
       "       -0.32106963-1.40279568e-01j,  0.85670146-6.28064056e-18j]],\n",
       "     input_dims=(2,), output_dims=(2,))"
      ]
     },
     "execution_count": 48,
     "metadata": {},
     "output_type": "execute_result"
    }
   ],
   "source": [
    "from qiskit.quantum_info import random_unitary\n",
    "\n",
    "chan = random_unitary(2)\n",
    "Choi(chan)"
   ]
  },
  {
   "cell_type": "code",
   "execution_count": 49,
   "id": "2c6ba76e",
   "metadata": {},
   "outputs": [
    {
     "name": "stdout",
     "output_type": "stream",
     "text": [
      "The number of EEB unitary evolutions after 51 applications is: 0/10000\n"
     ]
    }
   ],
   "source": [
    "count = 0\n",
    "total = 10000\n",
    "iterations = 50\n",
    "for _ in range(total): \n",
    "    chan = random_unitary(2)\n",
    "    choi = Choi(chan)\n",
    "    if is_eppt(choi,iterations):\n",
    "        count += 1\n",
    "\n",
    "print(f\"The number of EEB unitary evolutions after {iterations + 1} applications is: {count}/{total}\")"
   ]
  },
  {
   "cell_type": "markdown",
   "id": "1e4223c0",
   "metadata": {},
   "source": [
    "BIGGER SYSTEMS"
   ]
  },
  {
   "cell_type": "markdown",
   "id": "0f67c29a",
   "metadata": {},
   "source": [
    "We are going to check how fast do random channels get PPT, and therefore how many are EPPT (which won't imply them being EEB as we are no longer in the qubit case). This is of great interest since if that number is large, the PPT squared conjecture would tell us that almost every channel will be EEB."
   ]
  },
  {
   "cell_type": "markdown",
   "id": "fe6b308d",
   "metadata": {},
   "source": [
    "We will consider only systems of size 2^n, as it's more convenient and it's the size a real quantum channel of n qubits will have."
   ]
  },
  {
   "cell_type": "code",
   "execution_count": 41,
   "id": "cfca0d51",
   "metadata": {},
   "outputs": [
    {
     "name": "stdout",
     "output_type": "stream",
     "text": [
      "EEB channels of dimension 4 found after 1 application: 0/10000\n",
      "EEB channels of dimension 4 found after 2 application: 10000/10000\n"
     ]
    }
   ],
   "source": [
    "total = 10000\n",
    "iterations=0\n",
    "count = 0\n",
    "dim = 4\n",
    "\n",
    "while count < total:\n",
    "    count = 0\n",
    "    for _ in range(total): \n",
    "        chan = random_quantum_channel(dim)\n",
    "        choi = Choi(chan)\n",
    "        if is_eppt(choi,iterations):\n",
    "            count += 1\n",
    "    print(f\"EEB channels of dimension {dim} found after {iterations + 1} application: {count}/{total}\")\n",
    "    iterations += 1"
   ]
  },
  {
   "cell_type": "code",
   "execution_count": 42,
   "id": "66767da4",
   "metadata": {},
   "outputs": [
    {
     "name": "stdout",
     "output_type": "stream",
     "text": [
      "EEB channels of dimension 8 found after 1 application: 0/10000\n",
      "EEB channels of dimension 8 found after 2 application: 10000/10000\n"
     ]
    }
   ],
   "source": [
    "total = 10000\n",
    "iterations=0\n",
    "count = 0\n",
    "dim = 8\n",
    "\n",
    "while count < total:\n",
    "    count = 0\n",
    "    for _ in range(total): \n",
    "        chan = random_quantum_channel(dim)\n",
    "        choi = Choi(chan)\n",
    "        if is_eppt(choi,iterations):\n",
    "            count += 1\n",
    "    print(f\"EEB channels of dimension {dim} found after {iterations + 1} application: {count}/{total}\")\n",
    "    iterations += 1"
   ]
  },
  {
   "cell_type": "markdown",
   "id": "d87dbb14",
   "metadata": {},
   "source": [
    "We cannot go higher because of computation times."
   ]
  },
  {
   "cell_type": "markdown",
   "id": "62dc7642",
   "metadata": {},
   "source": [
    "ENTANGLEMENT SAVING CHANNELS"
   ]
  },
  {
   "cell_type": "markdown",
   "id": "0ffbdccc",
   "metadata": {},
   "source": [
    "Lets create a function that checks whether a qubit channel is EB or not, following Lami and Giovanetti paper, in order to see that a random quantum channel will have this property with probability 0."
   ]
  },
  {
   "cell_type": "code",
   "execution_count": 1,
   "id": "130d3910",
   "metadata": {},
   "outputs": [
    {
     "data": {
      "text/plain": [
       "PTM([[ 1.+0.j,  0.+0.j,  0.+0.j,  0.+0.j],\n",
       "     [ 0.+0.j,  1.+0.j,  0.+0.j,  0.+0.j],\n",
       "     [ 0.+0.j,  0.+0.j, -1.+0.j,  0.+0.j],\n",
       "     [ 0.+0.j,  0.+0.j,  0.+0.j, -1.+0.j]],\n",
       "    input_dims=(2,), output_dims=(2,))"
      ]
     },
     "execution_count": 1,
     "metadata": {},
     "output_type": "execute_result"
    }
   ],
   "source": [
    "from qiskit.quantum_info import SuperOp, PTM\n",
    "from qiskit.quantum_info import Choi, random_quantum_channel, random_unitary\n",
    "from utils import is_ppt, is_eppt, is_es_qubit\n",
    "from qiskit.quantum_info import Choi, Operator, DensityMatrix\n",
    "from qiskit import QuantumCircuit\n",
    "\n",
    "# Define Pauli-X unitary matrix\n",
    "X = [[0, 1], [1, 0]]\n",
    "\n",
    "# Convert to a quantum channel (Kraus representation)\n",
    "pauli_x_operator = Choi(Operator(X)).data  # Get Choi matrix\n",
    "pauli_x_channel = Choi(pauli_x_operator)  # Wrap as Choi object for your utils functions\n",
    "pauli_x_superop = SuperOp(pauli_x_channel)\n",
    "ptm = PTM(pauli_x_superop)\n",
    "ptm"
   ]
  },
  {
   "cell_type": "code",
   "execution_count": 2,
   "id": "6a2bffe2",
   "metadata": {},
   "outputs": [
    {
     "data": {
      "text/plain": [
       "True"
      ]
     },
     "execution_count": 2,
     "metadata": {},
     "output_type": "execute_result"
    }
   ],
   "source": [
    "is_es_qubit(pauli_x_channel)"
   ]
  },
  {
   "cell_type": "code",
   "execution_count": 3,
   "id": "df1a4a2a",
   "metadata": {},
   "outputs": [
    {
     "data": {
      "text/plain": [
       "False"
      ]
     },
     "execution_count": 3,
     "metadata": {},
     "output_type": "execute_result"
    }
   ],
   "source": [
    "is_es_qubit(random_quantum_channel(2))"
   ]
  },
  {
   "cell_type": "markdown",
   "id": "f6418d10",
   "metadata": {},
   "source": [
    "It looks like its working, but lets check it with random unitary evolutions and random quantum channels. We expect to get that every unitary evolution is ES while a random qubit channel shouldn't be ES with probability 1."
   ]
  },
  {
   "cell_type": "code",
   "execution_count": 23,
   "id": "79c4243b",
   "metadata": {},
   "outputs": [
    {
     "data": {
      "text/plain": [
       "Choi([[ 0.97889117+1.51753089e-17j, -0.10415961-9.90657616e-02j,\n",
       "       -0.10746568+9.54692507e-02j, -0.97832588-3.32623406e-02j],\n",
       "      [-0.10415961+9.90657616e-02j,  0.02110883-2.12626722e-19j,\n",
       "        0.00177328-2.10342170e-02j,  0.10746568-9.54692507e-02j],\n",
       "      [-0.10746568-9.54692507e-02j,  0.00177328+2.10342170e-02j,\n",
       "        0.02110883-5.38892384e-19j,  0.10415961+9.90657616e-02j],\n",
       "      [-0.97832588+3.32623406e-02j,  0.10746568+9.54692507e-02j,\n",
       "        0.10415961-9.90657616e-02j,  0.97889117+2.57366540e-18j]],\n",
       "     input_dims=(2,), output_dims=(2,))"
      ]
     },
     "execution_count": 23,
     "metadata": {},
     "output_type": "execute_result"
    }
   ],
   "source": [
    "unitary = random_unitary(2)\n",
    "op_unitary = Operator(unitary)\n",
    "choi_unitary = Choi(op_unitary)\n",
    "\n",
    "choi_unitary"
   ]
  },
  {
   "cell_type": "code",
   "execution_count": 4,
   "id": "2130f9cb",
   "metadata": {},
   "outputs": [
    {
     "data": {
      "text/plain": [
       "array([-2.77555756e-17+0.00000000e+00j,  1.38777878e-17+0.00000000e+00j,\n",
       "       -1.11022302e-16+5.48368315e-18j])"
      ]
     },
     "execution_count": 4,
     "metadata": {},
     "output_type": "execute_result"
    }
   ],
   "source": [
    "import numpy as np\n",
    "\n",
    "unitary = random_unitary(2)\n",
    "op_unitary = Operator(unitary)\n",
    "choi_unitary = Choi(op_unitary)\n",
    "\n",
    "\n",
    "\n",
    "ptm = PTM(SuperOp(choi_unitary)).data\n",
    "M = ptm[1:4, 1:4]\n",
    "c = ptm[1:4, 0]\n",
    "\n",
    "eigenvalues = np.linalg.eigvals(M)\n",
    "\n",
    "c\n"
   ]
  },
  {
   "cell_type": "code",
   "execution_count": 6,
   "id": "64cf07f9",
   "metadata": {},
   "outputs": [
    {
     "data": {
      "text/plain": [
       "True"
      ]
     },
     "execution_count": 6,
     "metadata": {},
     "output_type": "execute_result"
    }
   ],
   "source": [
    "is_es_qubit(choi_unitary)"
   ]
  },
  {
   "cell_type": "markdown",
   "id": "07232c42",
   "metadata": {},
   "source": [
    "It looks like it's not working because any unitary evolution is Entanglement Saving."
   ]
  },
  {
   "cell_type": "code",
   "execution_count": 9,
   "id": "94055b54",
   "metadata": {},
   "outputs": [
    {
     "name": "stdout",
     "output_type": "stream",
     "text": [
      "The number of ES unitary evolutions is: 1000/1000\n"
     ]
    }
   ],
   "source": [
    "count = 0\n",
    "total = 1000\n",
    "for _ in range(total): \n",
    "    unitary = random_unitary(2)\n",
    "    op_unitary = Operator(unitary)\n",
    "    choi_unitary = Choi(op_unitary)\n",
    "    if is_es_qubit(choi_unitary):\n",
    "        count += 1\n",
    "\n",
    "print(f\"The number of ES unitary evolutions is: {count}/{total}\")"
   ]
  },
  {
   "cell_type": "code",
   "execution_count": 13,
   "id": "2e2cfc03",
   "metadata": {},
   "outputs": [
    {
     "name": "stdout",
     "output_type": "stream",
     "text": [
      "ES channels found: 0/10000\n"
     ]
    }
   ],
   "source": [
    "count = 0\n",
    "total = 10000\n",
    "iterations = 0\n",
    "for _ in range(total): \n",
    "    chan = random_quantum_channel(2)\n",
    "    choi = Choi(chan)\n",
    "    if is_es_qubit(choi):\n",
    "        count += 1\n",
    "\n",
    "print(f\"ES channels found: {count}/{total}\")"
   ]
  }
 ],
 "metadata": {
  "kernelspec": {
   "display_name": "base",
   "language": "python",
   "name": "python3"
  },
  "language_info": {
   "codemirror_mode": {
    "name": "ipython",
    "version": 3
   },
   "file_extension": ".py",
   "mimetype": "text/x-python",
   "name": "python",
   "nbconvert_exporter": "python",
   "pygments_lexer": "ipython3",
   "version": "3.12.8"
  }
 },
 "nbformat": 4,
 "nbformat_minor": 5
}
