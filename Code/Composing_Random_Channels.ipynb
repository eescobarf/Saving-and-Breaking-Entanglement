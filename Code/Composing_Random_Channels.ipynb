{
 "cells": [
  {
   "cell_type": "markdown",
   "id": "46a74c2e",
   "metadata": {},
   "source": [
    "From a pool of random quantum channels, we want to see how many of them are EEB and EPPT, and how fast they do so if that's the case."
   ]
  },
  {
   "cell_type": "markdown",
   "id": "524f0488",
   "metadata": {},
   "source": [
    "QUBIT CASE"
   ]
  },
  {
   "cell_type": "markdown",
   "id": "2fb322e9",
   "metadata": {},
   "source": [
    "In this case, The PPT criteria tells us that a channel is EB if and only if it's PPT, meaning that the property PPT is a sufficient and necessary condition for a qubit channel to be entanglement breaking."
   ]
  },
  {
   "cell_type": "code",
   "execution_count": 6,
   "id": "7e44b088",
   "metadata": {},
   "outputs": [
    {
     "name": "stdout",
     "output_type": "stream",
     "text": [
      "EEB channels found after 1 application: 2382/10000\n"
     ]
    }
   ],
   "source": [
    "from qiskit.quantum_info import Choi, random_quantum_channel\n",
    "from utils import is_ppt, is_eppt\n",
    "\n",
    "\n",
    "count = 0\n",
    "total = 10000\n",
    "iterations = 0\n",
    "for _ in range(total): \n",
    "    chan = random_quantum_channel(2)\n",
    "    choi = Choi(chan)\n",
    "    if is_eppt(choi,iterations):\n",
    "        count += 1\n",
    "\n",
    "print(f\"EEB channels found after {iterations + 1} application: {count}/{total}\")"
   ]
  },
  {
   "cell_type": "code",
   "execution_count": null,
   "id": "55c650d0",
   "metadata": {},
   "outputs": [],
   "source": []
  }
 ],
 "metadata": {
  "kernelspec": {
   "display_name": "base",
   "language": "python",
   "name": "python3"
  },
  "language_info": {
   "codemirror_mode": {
    "name": "ipython",
    "version": 3
   },
   "file_extension": ".py",
   "mimetype": "text/x-python",
   "name": "python",
   "nbconvert_exporter": "python",
   "pygments_lexer": "ipython3",
   "version": "3.12.8"
  }
 },
 "nbformat": 4,
 "nbformat_minor": 5
}
