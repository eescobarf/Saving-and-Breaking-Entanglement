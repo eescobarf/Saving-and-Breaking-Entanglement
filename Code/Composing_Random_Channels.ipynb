{
 "cells": [
  {
   "cell_type": "markdown",
   "id": "46a74c2e",
   "metadata": {},
   "source": [
    "From a pool of random quantum channels, we want to see how many of them are EEB and EPPT, and how fast they do so if that's the case."
   ]
  },
  {
   "cell_type": "markdown",
   "id": "524f0488",
   "metadata": {},
   "source": [
    "QUBIT CASE"
   ]
  },
  {
   "cell_type": "markdown",
   "id": "2fb322e9",
   "metadata": {},
   "source": [
    "In this case, The PPT criteria tells us that a channel is EB if and only if it's PPT, meaning that the property PPT is a sufficient and necessary condition for a qubit channel to be entanglement breaking."
   ]
  },
  {
   "cell_type": "code",
   "execution_count": 1,
   "id": "7e44b088",
   "metadata": {},
   "outputs": [
    {
     "name": "stdout",
     "output_type": "stream",
     "text": [
      "EEB channels found after 1 application: 2489/10000\n"
     ]
    }
   ],
   "source": [
    "from qiskit.quantum_info import Choi, random_quantum_channel\n",
    "from utils import is_ppt, is_eppt, is_es_qubit\n",
    "\n",
    "\n",
    "count = 0\n",
    "total = 10000\n",
    "iterations = 0\n",
    "for _ in range(total): \n",
    "    chan = random_quantum_channel(2)\n",
    "    choi = Choi(chan)\n",
    "    if is_eppt(choi,iterations):\n",
    "        count += 1\n",
    "\n",
    "print(f\"EEB channels found after {iterations + 1} application: {count}/{total}\")"
   ]
  },
  {
   "cell_type": "code",
   "execution_count": 44,
   "id": "55c650d0",
   "metadata": {},
   "outputs": [
    {
     "name": "stdout",
     "output_type": "stream",
     "text": [
      "EEB channels found after 1 application: 2417/10000\n",
      "EEB channels found after 2 application: 9319/10000\n",
      "EEB channels found after 3 application: 9981/10000\n",
      "EEB channels found after 4 application: 10000/10000\n"
     ]
    }
   ],
   "source": [
    "total = 10000\n",
    "iterations=0\n",
    "count = 0\n",
    "\n",
    "while count < total:\n",
    "    count = 0\n",
    "    for _ in range(total): \n",
    "        chan = random_quantum_channel(2)\n",
    "        choi = Choi(chan)\n",
    "        if is_eppt(choi,iterations):\n",
    "            count += 1\n",
    "    print(f\"EEB channels found after {iterations + 1} application: {count}/{total}\")\n",
    "    iterations += 1"
   ]
  },
  {
   "cell_type": "markdown",
   "id": "109a9b58",
   "metadata": {},
   "source": [
    "From this we observe that intuitively we will get en EEB channel from a random sample with probability 1.\n",
    "However, we want to check if this is working properly. Lets define unitary evolutions, which for sure should not be EEB"
   ]
  },
  {
   "cell_type": "code",
   "execution_count": 2,
   "id": "8ffee555",
   "metadata": {},
   "outputs": [
    {
     "data": {
      "text/plain": [
       "Choi([[0.+0.j, 0.+0.j, 0.+0.j, 0.+0.j],\n",
       "      [0.+0.j, 1.+0.j, 1.+0.j, 0.+0.j],\n",
       "      [0.+0.j, 1.+0.j, 1.+0.j, 0.+0.j],\n",
       "      [0.+0.j, 0.+0.j, 0.+0.j, 0.+0.j]],\n",
       "     input_dims=(2,), output_dims=(2,))"
      ]
     },
     "execution_count": 2,
     "metadata": {},
     "output_type": "execute_result"
    }
   ],
   "source": [
    "from qiskit.quantum_info import Choi, Operator, DensityMatrix\n",
    "from qiskit import QuantumCircuit\n",
    "\n",
    "# Define Pauli-X unitary matrix\n",
    "X = [[0, 1], [1, 0]]\n",
    "\n",
    "# Convert to a quantum channel (Kraus representation)\n",
    "channel = Choi(Operator(X)).data  # Get Choi matrix\n",
    "pauli_x_channel = Choi(channel)  # Wrap as Choi object for your utils functions\n",
    "\n",
    "pauli_x_channel"
   ]
  },
  {
   "cell_type": "code",
   "execution_count": 4,
   "id": "38e9aac9",
   "metadata": {},
   "outputs": [
    {
     "name": "stdout",
     "output_type": "stream",
     "text": [
      "DensityMatrix([[ 0.68464623+0.j        ,  0.13134919-0.11397021j,\n",
      "                 0.09266072-0.05028517j, -0.28221759+0.0484015j ],\n",
      "               [ 0.13134919+0.11397021j,  0.31535377+0.j        ,\n",
      "                -0.12473102+0.02602827j, -0.09266072+0.05028517j],\n",
      "               [ 0.09266072+0.05028517j, -0.12473102-0.02602827j,\n",
      "                 0.59932066+0.j        ,  0.18078064-0.16027909j],\n",
      "               [-0.28221759-0.0484015j , -0.09266072-0.05028517j,\n",
      "                 0.18078064+0.16027909j,  0.40067934+0.j        ]],\n",
      "              dims=(2, 2))\n"
     ]
    }
   ],
   "source": [
    "DensityMatrix(choi.data)"
   ]
  },
  {
   "cell_type": "code",
   "execution_count": 4,
   "id": "f2a5e8e4",
   "metadata": {},
   "outputs": [
    {
     "data": {
      "text/plain": [
       "False"
      ]
     },
     "execution_count": 4,
     "metadata": {},
     "output_type": "execute_result"
    }
   ],
   "source": [
    "is_eppt(pauli_x_channel, 10000)"
   ]
  },
  {
   "cell_type": "markdown",
   "id": "54b74af2",
   "metadata": {},
   "source": [
    "We can actually see that pauli X evolution is not EEB, or at least not after 10000 iterations"
   ]
  },
  {
   "cell_type": "markdown",
   "id": "55180f56",
   "metadata": {},
   "source": [
    "In fact, we can use another Qiskit feature to create random unitaries and transform them into the Choi matrix of its corresponding unitary evolution, to check that none of them are EEB"
   ]
  },
  {
   "cell_type": "code",
   "execution_count": 48,
   "id": "098b299e",
   "metadata": {},
   "outputs": [
    {
     "data": {
      "text/plain": [
       "Choi([[ 0.85670146-1.38964104e-17j,  0.32106963-1.40279568e-01j,\n",
       "       -0.05749908+3.45626855e-01j, -0.20951488-8.30687010e-01j],\n",
       "      [ 0.32106963+1.40279568e-01j,  0.14329854+6.00483200e-18j,\n",
       "       -0.07814344+1.20116920e-01j,  0.05749908-3.45626855e-01j],\n",
       "      [-0.05749908-3.45626855e-01j, -0.07814344-1.20116920e-01j,\n",
       "        0.14329854-1.65649844e-18j, -0.32106963+1.40279568e-01j],\n",
       "      [-0.20951488+8.30687010e-01j,  0.05749908+3.45626855e-01j,\n",
       "       -0.32106963-1.40279568e-01j,  0.85670146-6.28064056e-18j]],\n",
       "     input_dims=(2,), output_dims=(2,))"
      ]
     },
     "execution_count": 48,
     "metadata": {},
     "output_type": "execute_result"
    }
   ],
   "source": [
    "from qiskit.quantum_info import random_unitary\n",
    "\n",
    "chan = random_unitary(2)\n",
    "Choi(chan)"
   ]
  },
  {
   "cell_type": "code",
   "execution_count": 49,
   "id": "2c6ba76e",
   "metadata": {},
   "outputs": [
    {
     "name": "stdout",
     "output_type": "stream",
     "text": [
      "The number of EEB unitary evolutions after 51 applications is: 0/10000\n"
     ]
    }
   ],
   "source": [
    "count = 0\n",
    "total = 10000\n",
    "iterations = 50\n",
    "for _ in range(total): \n",
    "    chan = random_unitary(2)\n",
    "    choi = Choi(chan)\n",
    "    if is_eppt(choi,iterations):\n",
    "        count += 1\n",
    "\n",
    "print(f\"The number of EEB unitary evolutions after {iterations + 1} applications is: {count}/{total}\")"
   ]
  },
  {
   "cell_type": "markdown",
   "id": "1e4223c0",
   "metadata": {},
   "source": [
    "BIGGER SYSTEMS"
   ]
  },
  {
   "cell_type": "markdown",
   "id": "0f67c29a",
   "metadata": {},
   "source": [
    "We are going to check how fast do random channels get PPT, and therefore how many are EPPT (which won't imply them being EEB as we are no longer in the qubit case). This is of great interest since if that number is large, the PPT squared conjecture would tell us that almost every channel will be EEB."
   ]
  },
  {
   "cell_type": "markdown",
   "id": "fe6b308d",
   "metadata": {},
   "source": [
    "We will consider only systems of size 2^n, as it's more convenient and it's the size a real quantum channel of n qubits will have."
   ]
  },
  {
   "cell_type": "code",
   "execution_count": 41,
   "id": "cfca0d51",
   "metadata": {},
   "outputs": [
    {
     "name": "stdout",
     "output_type": "stream",
     "text": [
      "EEB channels of dimension 4 found after 1 application: 0/10000\n",
      "EEB channels of dimension 4 found after 2 application: 10000/10000\n"
     ]
    }
   ],
   "source": [
    "total = 10000\n",
    "iterations=0\n",
    "count = 0\n",
    "dim = 4\n",
    "\n",
    "while count < total:\n",
    "    count = 0\n",
    "    for _ in range(total): \n",
    "        chan = random_quantum_channel(dim)\n",
    "        choi = Choi(chan)\n",
    "        if is_eppt(choi,iterations):\n",
    "            count += 1\n",
    "    print(f\"EEB channels of dimension {dim} found after {iterations + 1} application: {count}/{total}\")\n",
    "    iterations += 1"
   ]
  },
  {
   "cell_type": "code",
   "execution_count": 42,
   "id": "66767da4",
   "metadata": {},
   "outputs": [
    {
     "name": "stdout",
     "output_type": "stream",
     "text": [
      "EEB channels of dimension 8 found after 1 application: 0/10000\n",
      "EEB channels of dimension 8 found after 2 application: 10000/10000\n"
     ]
    }
   ],
   "source": [
    "total = 10000\n",
    "iterations=0\n",
    "count = 0\n",
    "dim = 8\n",
    "\n",
    "while count < total:\n",
    "    count = 0\n",
    "    for _ in range(total): \n",
    "        chan = random_quantum_channel(dim)\n",
    "        choi = Choi(chan)\n",
    "        if is_eppt(choi,iterations):\n",
    "            count += 1\n",
    "    print(f\"EEB channels of dimension {dim} found after {iterations + 1} application: {count}/{total}\")\n",
    "    iterations += 1"
   ]
  },
  {
   "cell_type": "markdown",
   "id": "d87dbb14",
   "metadata": {},
   "source": [
    "We cannot go higher because of computation times."
   ]
  },
  {
   "cell_type": "markdown",
   "id": "62dc7642",
   "metadata": {},
   "source": [
    "ENTANGLEMENT SAVING CHANNELS"
   ]
  },
  {
   "cell_type": "markdown",
   "id": "0ffbdccc",
   "metadata": {},
   "source": [
    "Lets create a function that checks whether a qubit channel is EB or not, following Lami and Giovanetti paper, in order to see that a random quantum channel will have this property with probability 0."
   ]
  },
  {
   "cell_type": "code",
   "execution_count": 3,
   "id": "6a2bffe2",
   "metadata": {},
   "outputs": [
    {
     "ename": "QiskitError",
     "evalue": "\"Left and right compose dimensions don't match ((2,) != ())\"",
     "output_type": "error",
     "traceback": [
      "\u001b[1;31m---------------------------------------------------------------------------\u001b[0m",
      "\u001b[1;31mQiskitError\u001b[0m                               Traceback (most recent call last)",
      "Cell \u001b[1;32mIn[3], line 1\u001b[0m\n\u001b[1;32m----> 1\u001b[0m \u001b[43mis_es_qubit\u001b[49m\u001b[43m(\u001b[49m\u001b[43mpauli_x_channel\u001b[49m\u001b[43m)\u001b[49m\n",
      "File \u001b[1;32mc:\\Users\\enriq\\OneDrive\\Escritorio\\Enrique\\Copenhagen\\MSc Quantum Information Science\\Year 1\\PUK Mikael\\Programming\\Saving-and-Breaking-Entanglement\\Code\\utils.py:42\u001b[0m, in \u001b[0;36mis_es_qubit\u001b[1;34m(choi)\u001b[0m\n\u001b[0;32m     40\u001b[0m \u001b[38;5;250m\u001b[39m\u001b[38;5;124;03m\"\"\"Check if a qubit channel is ES (Esntanglement Saving)\"\"\"\u001b[39;00m\n\u001b[0;32m     41\u001b[0m \u001b[38;5;66;03m# First we compute the Pauli Transfer Matrix of the state and then extract the relevant sub,atrix and vector\u001b[39;00m\n\u001b[1;32m---> 42\u001b[0m ptm \u001b[38;5;241m=\u001b[39m \u001b[43mcompute_ptm\u001b[49m\u001b[43m(\u001b[49m\u001b[43mchoi\u001b[49m\u001b[43m)\u001b[49m\n\u001b[0;32m     43\u001b[0m M \u001b[38;5;241m=\u001b[39m ptm[\u001b[38;5;241m1\u001b[39m:\u001b[38;5;241m4\u001b[39m, \u001b[38;5;241m1\u001b[39m:\u001b[38;5;241m4\u001b[39m]\n\u001b[0;32m     44\u001b[0m c \u001b[38;5;241m=\u001b[39m ptm[\u001b[38;5;241m1\u001b[39m:\u001b[38;5;241m4\u001b[39m, \u001b[38;5;241m0\u001b[39m]\n",
      "File \u001b[1;32mc:\\Users\\enriq\\OneDrive\\Escritorio\\Enrique\\Copenhagen\\MSc Quantum Information Science\\Year 1\\PUK Mikael\\Programming\\Saving-and-Breaking-Entanglement\\Code\\utils.py:32\u001b[0m, in \u001b[0;36mcompute_ptm\u001b[1;34m(choi)\u001b[0m\n\u001b[0;32m     29\u001b[0m ptm \u001b[38;5;241m=\u001b[39m np\u001b[38;5;241m.\u001b[39mzeros((\u001b[38;5;241m4\u001b[39m, \u001b[38;5;241m4\u001b[39m), dtype\u001b[38;5;241m=\u001b[39m\u001b[38;5;28mfloat\u001b[39m)\n\u001b[0;32m     30\u001b[0m \u001b[38;5;28;01mfor\u001b[39;00m i, pauli_in \u001b[38;5;129;01min\u001b[39;00m \u001b[38;5;28menumerate\u001b[39m(paulis):\n\u001b[0;32m     31\u001b[0m     \u001b[38;5;66;03m# Apply the channel to the Pauli operator\u001b[39;00m\n\u001b[1;32m---> 32\u001b[0m     out \u001b[38;5;241m=\u001b[39m (\u001b[43msuperop\u001b[49m\u001b[43m \u001b[49m\u001b[38;5;241;43m@\u001b[39;49m\u001b[43m \u001b[49m\u001b[43mSuperOp\u001b[49m\u001b[43m(\u001b[49m\u001b[43mChoi\u001b[49m\u001b[43m(\u001b[49m\u001b[43mpauli_in\u001b[49m\u001b[38;5;241;43m.\u001b[39;49m\u001b[43mto_matrix\u001b[49m\u001b[43m(\u001b[49m\u001b[43m)\u001b[49m\u001b[43m)\u001b[49m\u001b[43m)\u001b[49m)\u001b[38;5;241m.\u001b[39mdata\n\u001b[0;32m     33\u001b[0m     \u001b[38;5;28;01mfor\u001b[39;00m j, pauli_out \u001b[38;5;129;01min\u001b[39;00m \u001b[38;5;28menumerate\u001b[39m(paulis):\n\u001b[0;32m     34\u001b[0m         \u001b[38;5;66;03m# Compute the trace overlap\u001b[39;00m\n\u001b[0;32m     35\u001b[0m         ptm[j, i] \u001b[38;5;241m=\u001b[39m np\u001b[38;5;241m.\u001b[39mtrace(pauli_out\u001b[38;5;241m.\u001b[39mto_matrix()\u001b[38;5;241m.\u001b[39mconj()\u001b[38;5;241m.\u001b[39mT \u001b[38;5;241m@\u001b[39m out)\u001b[38;5;241m.\u001b[39mreal \u001b[38;5;241m/\u001b[39m \u001b[38;5;241m2\u001b[39m\n",
      "File \u001b[1;32mc:\\Users\\enriq\\miniconda3\\Lib\\site-packages\\qiskit\\quantum_info\\operators\\mixins\\group.py:65\u001b[0m, in \u001b[0;36mGroupMixin.__matmul__\u001b[1;34m(self, other)\u001b[0m\n\u001b[0;32m     64\u001b[0m \u001b[38;5;28;01mdef\u001b[39;00m \u001b[38;5;21m__matmul__\u001b[39m(\u001b[38;5;28mself\u001b[39m, other) \u001b[38;5;241m-\u001b[39m\u001b[38;5;241m>\u001b[39m Self:\n\u001b[1;32m---> 65\u001b[0m     \u001b[38;5;28;01mreturn\u001b[39;00m \u001b[38;5;28;43mself\u001b[39;49m\u001b[38;5;241;43m.\u001b[39;49m\u001b[43mdot\u001b[49m\u001b[43m(\u001b[49m\u001b[43mother\u001b[49m\u001b[43m)\u001b[49m\n",
      "File \u001b[1;32mc:\\Users\\enriq\\miniconda3\\Lib\\site-packages\\qiskit\\quantum_info\\operators\\mixins\\group.py:149\u001b[0m, in \u001b[0;36mGroupMixin.dot\u001b[1;34m(self, other, qargs)\u001b[0m\n\u001b[0;32m    133\u001b[0m \u001b[38;5;28;01mdef\u001b[39;00m \u001b[38;5;21mdot\u001b[39m(\u001b[38;5;28mself\u001b[39m, other, qargs\u001b[38;5;241m=\u001b[39m\u001b[38;5;28;01mNone\u001b[39;00m) \u001b[38;5;241m-\u001b[39m\u001b[38;5;241m>\u001b[39m Self:\n\u001b[0;32m    134\u001b[0m \u001b[38;5;250m    \u001b[39m\u001b[38;5;124;03m\"\"\"Return the right multiplied operator self * other.\u001b[39;00m\n\u001b[0;32m    135\u001b[0m \n\u001b[0;32m    136\u001b[0m \u001b[38;5;124;03m    Args:\u001b[39;00m\n\u001b[1;32m   (...)\u001b[0m\n\u001b[0;32m    147\u001b[0m \u001b[38;5;124;03m        Hence ``a.dot(b)`` is equivalent to ``a @ b``.\u001b[39;00m\n\u001b[0;32m    148\u001b[0m \u001b[38;5;124;03m    \"\"\"\u001b[39;00m\n\u001b[1;32m--> 149\u001b[0m     \u001b[38;5;28;01mreturn\u001b[39;00m \u001b[38;5;28;43mself\u001b[39;49m\u001b[38;5;241;43m.\u001b[39;49m\u001b[43mcompose\u001b[49m\u001b[43m(\u001b[49m\u001b[43mother\u001b[49m\u001b[43m,\u001b[49m\u001b[43m \u001b[49m\u001b[43mqargs\u001b[49m\u001b[38;5;241;43m=\u001b[39;49m\u001b[43mqargs\u001b[49m\u001b[43m,\u001b[49m\u001b[43m \u001b[49m\u001b[43mfront\u001b[49m\u001b[38;5;241;43m=\u001b[39;49m\u001b[38;5;28;43;01mTrue\u001b[39;49;00m\u001b[43m)\u001b[49m\n",
      "File \u001b[1;32mc:\\Users\\enriq\\miniconda3\\Lib\\site-packages\\qiskit\\quantum_info\\operators\\channel\\superop.py:190\u001b[0m, in \u001b[0;36mSuperOp.compose\u001b[1;34m(self, other, qargs, front)\u001b[0m\n\u001b[0;32m    187\u001b[0m     other \u001b[38;5;241m=\u001b[39m SuperOp(other)\n\u001b[0;32m    188\u001b[0m \u001b[38;5;66;03m# Validate dimensions are compatible and return the composed\u001b[39;00m\n\u001b[0;32m    189\u001b[0m \u001b[38;5;66;03m# operator dimensions\u001b[39;00m\n\u001b[1;32m--> 190\u001b[0m new_shape \u001b[38;5;241m=\u001b[39m \u001b[38;5;28;43mself\u001b[39;49m\u001b[38;5;241;43m.\u001b[39;49m\u001b[43m_op_shape\u001b[49m\u001b[38;5;241;43m.\u001b[39;49m\u001b[43mcompose\u001b[49m\u001b[43m(\u001b[49m\u001b[43mother\u001b[49m\u001b[38;5;241;43m.\u001b[39;49m\u001b[43m_op_shape\u001b[49m\u001b[43m,\u001b[49m\u001b[43m \u001b[49m\u001b[43mqargs\u001b[49m\u001b[43m,\u001b[49m\u001b[43m \u001b[49m\u001b[43mfront\u001b[49m\u001b[43m)\u001b[49m\n\u001b[0;32m    191\u001b[0m input_dims \u001b[38;5;241m=\u001b[39m new_shape\u001b[38;5;241m.\u001b[39mdims_r()\n\u001b[0;32m    192\u001b[0m output_dims \u001b[38;5;241m=\u001b[39m new_shape\u001b[38;5;241m.\u001b[39mdims_l()\n",
      "File \u001b[1;32mc:\\Users\\enriq\\miniconda3\\Lib\\site-packages\\qiskit\\quantum_info\\operators\\op_shape.py:431\u001b[0m, in \u001b[0;36mOpShape.compose\u001b[1;34m(self, other, qargs, front)\u001b[0m\n\u001b[0;32m    429\u001b[0m \u001b[38;5;28;01mif\u001b[39;00m front:\n\u001b[0;32m    430\u001b[0m     \u001b[38;5;28;01mif\u001b[39;00m \u001b[38;5;28mself\u001b[39m\u001b[38;5;241m.\u001b[39m_num_qargs_r \u001b[38;5;241m!=\u001b[39m other\u001b[38;5;241m.\u001b[39m_num_qargs_l \u001b[38;5;129;01mor\u001b[39;00m \u001b[38;5;28mself\u001b[39m\u001b[38;5;241m.\u001b[39m_dims_r \u001b[38;5;241m!=\u001b[39m other\u001b[38;5;241m.\u001b[39m_dims_l:\n\u001b[1;32m--> 431\u001b[0m         \u001b[38;5;28;01mraise\u001b[39;00m QiskitError(\n\u001b[0;32m    432\u001b[0m             \u001b[38;5;124m\"\u001b[39m\u001b[38;5;124mLeft and right compose dimensions don\u001b[39m\u001b[38;5;124m'\u001b[39m\u001b[38;5;124mt match \u001b[39m\u001b[38;5;124m\"\u001b[39m\n\u001b[0;32m    433\u001b[0m             \u001b[38;5;124mf\u001b[39m\u001b[38;5;124m\"\u001b[39m\u001b[38;5;124m(\u001b[39m\u001b[38;5;132;01m{\u001b[39;00m\u001b[38;5;28mself\u001b[39m\u001b[38;5;241m.\u001b[39mdims_r()\u001b[38;5;132;01m}\u001b[39;00m\u001b[38;5;124m != \u001b[39m\u001b[38;5;132;01m{\u001b[39;00mother\u001b[38;5;241m.\u001b[39mdims_l()\u001b[38;5;132;01m}\u001b[39;00m\u001b[38;5;124m)\u001b[39m\u001b[38;5;124m\"\u001b[39m\n\u001b[0;32m    434\u001b[0m         )\n\u001b[0;32m    435\u001b[0m     ret\u001b[38;5;241m.\u001b[39m_dims_l \u001b[38;5;241m=\u001b[39m \u001b[38;5;28mself\u001b[39m\u001b[38;5;241m.\u001b[39m_dims_l\n\u001b[0;32m    436\u001b[0m     ret\u001b[38;5;241m.\u001b[39m_dims_r \u001b[38;5;241m=\u001b[39m other\u001b[38;5;241m.\u001b[39m_dims_r\n",
      "\u001b[1;31mQiskitError\u001b[0m: \"Left and right compose dimensions don't match ((2,) != ())\""
     ]
    }
   ],
   "source": [
    "is_es_qubit(pauli_x_channel)"
   ]
  }
 ],
 "metadata": {
  "kernelspec": {
   "display_name": "base",
   "language": "python",
   "name": "python3"
  },
  "language_info": {
   "codemirror_mode": {
    "name": "ipython",
    "version": 3
   },
   "file_extension": ".py",
   "mimetype": "text/x-python",
   "name": "python",
   "nbconvert_exporter": "python",
   "pygments_lexer": "ipython3",
   "version": "3.12.8"
  }
 },
 "nbformat": 4,
 "nbformat_minor": 5
}
